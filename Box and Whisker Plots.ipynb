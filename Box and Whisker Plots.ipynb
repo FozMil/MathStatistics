{
 "cells": [
  {
   "cell_type": "code",
   "execution_count": 117,
   "id": "136bd388-7750-4f9a-84da-fca8d1eb25eb",
   "metadata": {},
   "outputs": [
    {
     "name": "stdout",
     "output_type": "stream",
     "text": [
      "[*********************100%%**********************]  1 of 1 completed\n",
      "                 Open       High        Low      Close  Adj Close   Volume\n",
      "Date                                                                      \n",
      "2019-12-02  15.240000  15.290000  14.980000  14.990000  13.541875  2516900\n",
      "2019-12-03  14.900000  14.970000  14.830000  14.880000  13.442503  1829700\n",
      "2019-12-04  14.930000  15.020000  14.890000  15.000000  13.550911  3239600\n",
      "2019-12-05  15.000000  15.190000  14.990000  15.150000  13.686418  1968500\n",
      "2019-12-06  15.120000  15.200000  14.950000  15.060000  13.605112  1240000\n",
      "...               ...        ...        ...        ...        ...      ...\n",
      "2023-11-24  17.620001  18.139999  17.620001  18.080000  18.080000   613300\n",
      "2023-11-27  18.049999  18.100000  17.700001  17.740000  17.740000  1298100\n",
      "2023-11-28  17.660000  17.879999  17.629999  17.799999  17.799999   985400\n",
      "2023-11-29  17.809999  18.049999  17.760000  17.889999  17.889999  1012600\n",
      "2023-11-30  17.889999  18.299999  17.799999  18.170000  18.170000  1930900\n",
      "\n",
      "[1007 rows x 6 columns]\n"
     ]
    }
   ],
   "source": [
    "import yfinance as yf\n",
    "\n",
    "symbol = \"AMX\"\n",
    "\n",
    "#Временной интервал\n",
    "start = \"2019-12-01\"\n",
    "end = \"2023-12-01\"\n",
    "\n",
    "#Данные о финансовом индексе\n",
    "data = yf.download(symbol, start=start, end=end)\n",
    "print(data)"
   ]
  },
  {
   "cell_type": "code",
   "execution_count": 118,
   "id": "9db8c2aa-b3a1-4746-b740-06b2ee1cb759",
   "metadata": {},
   "outputs": [
    {
     "name": "stdout",
     "output_type": "stream",
     "text": [
      "              Open         High          Low        Close    Adj Close  \\\n",
      "count  1007.000000  1007.000000  1007.000000  1007.000000  1007.000000   \n",
      "mean     17.084628    17.300060    16.890417    17.093803    16.203531   \n",
      "std       3.056970     3.081371     3.044551     3.065859     3.231618   \n",
      "min      10.760000    10.810000    10.120000    10.570000     9.548874   \n",
      "25%      14.285000    14.510000    14.165000    14.320000    13.246288   \n",
      "50%      17.410000    17.629999    17.230000    17.490000    16.704021   \n",
      "75%      19.495000    19.775001    19.255000    19.480000    18.784387   \n",
      "max      22.889999    23.070000    22.639999    22.959999    22.336884   \n",
      "\n",
      "             Volume  \n",
      "count  1.007000e+03  \n",
      "mean   2.417824e+06  \n",
      "std    1.492814e+06  \n",
      "min    3.551000e+05  \n",
      "25%    1.453650e+06  \n",
      "50%    1.993300e+06  \n",
      "75%    2.987400e+06  \n",
      "max    1.469790e+07  \n"
     ]
    }
   ],
   "source": [
    "import pandas as pd\n",
    "#Вывод таблицы описательных статистик \n",
    "statistics = data.describe()\n",
    "print(statistics)"
   ]
  },
  {
   "cell_type": "code",
   "execution_count": 119,
   "id": "178b77d3-3432-46d0-b52d-081eedd7ba3b",
   "metadata": {},
   "outputs": [
    {
     "name": "stdout",
     "output_type": "stream",
     "text": [
      "Date\n",
      "2019-12-02         NaN\n",
      "2019-12-03   -0.007338\n",
      "2019-12-04    0.008065\n",
      "2019-12-05    0.010000\n",
      "2019-12-06   -0.005941\n",
      "                ...   \n",
      "2023-11-24    0.025525\n",
      "2023-11-27   -0.018805\n",
      "2023-11-28    0.003382\n",
      "2023-11-29    0.005056\n",
      "2023-11-30    0.015651\n",
      "Name: Return, Length: 1007, dtype: float64\n"
     ]
    }
   ],
   "source": [
    "#Доходность индекса\n",
    "data[\"Return\"] = data[\"Close\"].pct_change()\n",
    "print(data[\"Return\"])"
   ]
  },
  {
   "cell_type": "code",
   "execution_count": 172,
   "id": "8c31e794-a294-4a72-8810-aeb037780451",
   "metadata": {},
   "outputs": [
    {
     "data": {
      "image/png": "[encoded data removed]",
      "text/plain": [
       "<Figure size 640x480 with 1 Axes>"
      ]
     },
     "metadata": {},
     "output_type": "display_data"
    }
   ],
   "source": [
    "import matplotlib.pyplot as plt\n",
    "#Построение диаграммы Бокса Вискера\n",
    "plt.boxplot(data[\"Return\"].dropna(), vert=False)\n",
    "plt.xlabel(\"Доходность\")\n",
    "plt.title(\"Диаграмма Бокса Вискера для доходности AMX\")\n",
    "plt.show()"
   ]
  },
  {
   "cell_type": "code",
   "execution_count": 166,
   "id": "aef5dbdc-5e9e-4b9f-9716-e65320a05203",
   "metadata": {},
   "outputs": [
    {
     "name": "stdout",
     "output_type": "stream",
     "text": [
      "[*********************100%%**********************]  1 of 1 completed\n",
      "                 Open       High        Low      Close  Adj Close  Volume\n",
      "Date                                                                     \n",
      "2019-12-02  20.813334  20.813334  20.416668  20.440001  19.587053  209400\n",
      "2019-12-03  20.020000  20.156668  19.959999  20.150000  19.309151  192000\n",
      "2019-12-04  20.416668  20.463333  20.366667  20.423332  19.571075   81900\n",
      "2019-12-05  20.463333  20.596666  20.400000  20.453333  19.599823   80100\n",
      "2019-12-06  20.666668  20.883333  20.666668  20.799999  19.932024   58500\n",
      "...               ...        ...        ...        ...        ...     ...\n",
      "2023-11-24  43.889999  44.040001  43.889999  43.990002  43.942848   10700\n",
      "2023-11-27  43.820000  44.369999  43.740002  44.020000  43.972813   37200\n",
      "2023-11-28  43.790001  43.939999  43.330002  43.610001  43.563255   33800\n",
      "2023-11-29  44.220001  44.660000  43.939999  44.009998  43.962822   27300\n",
      "2023-11-30  44.200001  44.200001  43.430000  43.740002  43.693115   26800\n",
      "\n",
      "[1007 rows x 6 columns]\n"
     ]
    }
   ],
   "source": [
    "symbol = \"PSI\"\n",
    "start = \"2019-12-01\"\n",
    "end = \"2023-12-01\"\n",
    "data = yf.download(symbol, start=start, end=end)\n",
    "print(data)"
   ]
  },
  {
   "cell_type": "code",
   "execution_count": 167,
   "id": "4eb20db2-8b22-4cae-b6b8-ea0ba0cf5f29",
   "metadata": {},
   "outputs": [
    {
     "name": "stdout",
     "output_type": "stream",
     "text": [
      "              Open         High          Low        Close    Adj Close  \\\n",
      "count  1007.000000  1007.000000  1007.000000  1007.000000  1007.000000   \n",
      "mean     36.104244    36.514949    35.638825    36.094518    35.379621   \n",
      "std       8.319714     8.377598     8.216666     8.300738     8.304525   \n",
      "min      15.433333    16.136667    14.893333    15.496667    14.909812   \n",
      "25%      30.445000    31.000000    30.021667    30.558333    29.830027   \n",
      "50%      38.213333    38.693333    37.786667    38.286667    37.561016   \n",
      "75%      42.260000    42.689999    41.796665    42.260000    41.414965   \n",
      "max      52.293331    52.400002    51.196667    51.983334    50.689964   \n",
      "\n",
      "             Volume  \n",
      "count  1.007000e+03  \n",
      "mean   1.172666e+05  \n",
      "std    1.183661e+05  \n",
      "min    7.500000e+03  \n",
      "25%    5.325000e+04  \n",
      "50%    8.310000e+04  \n",
      "75%    1.396500e+05  \n",
      "max    1.738200e+06  \n"
     ]
    }
   ],
   "source": [
    "import pandas as pd\n",
    "#Вывод таблицы описательных статистик \n",
    "statistics = data.describe()\n",
    "print(statistics)"
   ]
  },
  {
   "cell_type": "code",
   "execution_count": 168,
   "id": "ec6e6344-901b-457d-ba1e-59ef948dde34",
   "metadata": {},
   "outputs": [
    {
     "name": "stdout",
     "output_type": "stream",
     "text": [
      "Date\n",
      "2019-12-02         NaN\n",
      "2019-12-03   -0.014188\n",
      "2019-12-04    0.013565\n",
      "2019-12-05    0.001469\n",
      "2019-12-06    0.016949\n",
      "                ...   \n",
      "2023-11-24    0.000455\n",
      "2023-11-27    0.000682\n",
      "2023-11-28   -0.009314\n",
      "2023-11-29    0.009172\n",
      "2023-11-30   -0.006135\n",
      "Name: Y, Length: 1007, dtype: float64\n"
     ]
    }
   ],
   "source": [
    "#Доходность индекса\n",
    "data[\"Y\"] = data[\"Close\"].pct_change()\n",
    "print(data[\"Y\"])"
   ]
  },
  {
   "cell_type": "code",
   "execution_count": 169,
   "id": "554b3713-4e5f-4a1b-abab-f4706331b0ed",
   "metadata": {},
   "outputs": [
    {
     "name": "stdout",
     "output_type": "stream",
     "text": [
      "Date\n",
      "2019-12-02         NaN\n",
      "2019-12-03   -0.014188\n",
      "2019-12-04    0.013565\n",
      "2019-12-05    0.001469\n",
      "2019-12-06    0.016949\n",
      "                ...   \n",
      "2023-11-24    0.000455\n",
      "2023-11-27    0.000682\n",
      "2023-11-28   -0.009314\n",
      "2023-11-29    0.009172\n",
      "2023-11-30   -0.006135\n",
      "Name: Return, Length: 1007, dtype: float64\n"
     ]
    }
   ],
   "source": [
    "#Доходность индекса\n",
    "data[\"Return\"] = data[\"Close\"].pct_change()\n",
    "print(data[\"Return\"])"
   ]
  },
  {
   "cell_type": "code",
   "execution_count": 171,
   "id": "547f08c0-903a-46a7-b7ba-e795cbc44521",
   "metadata": {},
   "outputs": [
    {
     "data": {
      "image/png": "[encoded data removed]",
      "text/plain": [
       "<Figure size 640x480 with 1 Axes>"
      ]
     },
     "metadata": {},
     "output_type": "display_data"
    }
   ],
   "source": [
    "import matplotlib.pyplot as plt\n",
    "#Построение диаграммы ящик с усами\n",
    "plt.boxplot(data[\"Return\"].dropna(), vert=False)\n",
    "plt.xlabel(\"Доходность\")\n",
    "plt.title(\"Диаграмма Бокса Вискера для доходности PSI\")\n",
    "plt.show()"
   ]
  },
  {
   "cell_type": "code",
   "execution_count": null,
   "id": "b1d9d56c-3231-49fe-a3b4-28f913e89fd0",
   "metadata": {},
   "outputs": [],
   "source": []
  }
 ],
 "metadata": {
  "kernelspec": {
   "display_name": "Python 3 (ipykernel)",
   "language": "python",
   "name": "python3"
  },
  "language_info": {
   "codemirror_mode": {
    "name": "ipython",
    "version": 3
   },
   "file_extension": ".py",
   "mimetype": "text/x-python",
   "name": "python",
   "nbconvert_exporter": "python",
   "pygments_lexer": "ipython3",
   "version": "3.11.5"
  }
 },
 "nbformat": 4,
 "nbformat_minor": 5
}
